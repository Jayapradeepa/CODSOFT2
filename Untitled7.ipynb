{
  "nbformat": 4,
  "nbformat_minor": 0,
  "metadata": {
    "colab": {
      "provenance": [],
      "authorship_tag": "ABX9TyPgNtXc1P7tPbduCVR/ttuS",
      "include_colab_link": true
    },
    "kernelspec": {
      "name": "python3",
      "display_name": "Python 3"
    },
    "language_info": {
      "name": "python"
    }
  },
  "cells": [
    {
      "cell_type": "markdown",
      "metadata": {
        "id": "view-in-github",
        "colab_type": "text"
      },
      "source": [
        "<a href=\"https://colab.research.google.com/github/Jayapradeepa/CODSOFT2/blob/main/Untitled7.ipynb\" target=\"_parent\"><img src=\"https://colab.research.google.com/assets/colab-badge.svg\" alt=\"Open In Colab\"/></a>"
      ]
    },
    {
      "cell_type": "code",
      "execution_count": 1,
      "metadata": {
        "colab": {
          "base_uri": "https://localhost:8080/"
        },
        "id": "q2XheAwLJYge",
        "outputId": "e71aea43-20c5-472c-8d05-6a3ff4065183"
      },
      "outputs": [
        {
          "output_type": "stream",
          "name": "stdout",
          "text": [
            "                                 Name    Year Duration            Genre  \\\n",
            "0                                         NaN      NaN            Drama   \n",
            "1  #Gadhvi (He thought he was Gandhi) -2019.0  109 min            Drama   \n",
            "2                         #Homecoming -2021.0   90 min   Drama, Musical   \n",
            "3                             #Yaaram -2019.0  110 min  Comedy, Romance   \n",
            "4                   ...And Once Again -2010.0  105 min            Drama   \n",
            "\n",
            "   Rating Votes            Director       Actor 1             Actor 2  \\\n",
            "0     NaN   NaN       J.S. Randhawa      Manmauji              Birbal   \n",
            "1     7.0     8       Gaurav Bakshi  Rasika Dugal      Vivek Ghamande   \n",
            "2     NaN   NaN  Soumyajit Majumdar  Sayani Gupta   Plabita Borthakur   \n",
            "3     4.4    35          Ovais Khan       Prateik          Ishita Raj   \n",
            "4     NaN   NaN        Amol Palekar  Rajat Kapoor  Rituparna Sengupta   \n",
            "\n",
            "           Actor 3  \n",
            "0  Rajendra Bhatia  \n",
            "1    Arvind Jangid  \n",
            "2       Roy Angana  \n",
            "3  Siddhant Kapoor  \n",
            "4      Antara Mali  \n",
            "<class 'pandas.core.frame.DataFrame'>\n",
            "RangeIndex: 15509 entries, 0 to 15508\n",
            "Data columns (total 10 columns):\n",
            " #   Column    Non-Null Count  Dtype  \n",
            "---  ------    --------------  -----  \n",
            " 0   Name      15509 non-null  object \n",
            " 1   Year      14981 non-null  float64\n",
            " 2   Duration  7240 non-null   object \n",
            " 3   Genre     13632 non-null  object \n",
            " 4   Rating    7919 non-null   float64\n",
            " 5   Votes     7920 non-null   object \n",
            " 6   Director  14984 non-null  object \n",
            " 7   Actor 1   13892 non-null  object \n",
            " 8   Actor 2   13125 non-null  object \n",
            " 9   Actor 3   12365 non-null  object \n",
            "dtypes: float64(2), object(8)\n",
            "memory usage: 1.2+ MB\n",
            "None\n",
            "Index(['Name', 'Year', 'Duration', 'Genre', 'Rating', 'Votes', 'Director',\n",
            "       'Actor 1', 'Actor 2', 'Actor 3'],\n",
            "      dtype='object')\n",
            "Mean Squared Error: 4.25559467637952\n"
          ]
        }
      ],
      "source": [
        "# Import necessary libraries\n",
        "import pandas as pd\n",
        "from sklearn.model_selection import train_test_split\n",
        "from sklearn.linear_model import LinearRegression\n",
        "from sklearn.metrics import mean_squared_error\n",
        "from sklearn.preprocessing import OneHotEncoder\n",
        "from sklearn.compose import ColumnTransformer\n",
        "from sklearn.pipeline import Pipeline\n",
        "from sklearn.impute import SimpleImputer\n",
        "\n",
        "# Load your movie data\n",
        "# Assuming you have a CSV file with columns like 'Name', 'Year', 'Duration', 'Genre', 'Rating', 'Votes', 'Director', 'Actor1', 'Actor2', 'Actor3'\n",
        "# Try specifying a different encoding, such as 'latin-1'\n",
        "data = pd.read_csv('/content/india movies.csv', encoding='latin-1')\n",
        "\n",
        "# Data exploration\n",
        "print(data.head())\n",
        "print(data.info())\n",
        "\n",
        "# Check the actual column names in the dataset\n",
        "print(data.columns)\n",
        "\n",
        "# Ensure that the column names are used correctly\n",
        "X = data.drop(['Rating', 'Name'], axis=1)  # Exclude 'Name' as it is not useful for prediction\n",
        "y = data['Rating']\n",
        "\n",
        "# Handle missing values in the target variable 'Rating'\n",
        "y_imputer = SimpleImputer(strategy='mean')\n",
        "y = y_imputer.fit_transform(y.values.reshape(-1, 1)).ravel()\n",
        "\n",
        "# Split the data into training and testing sets\n",
        "X_train, X_test, y_train, y_test = train_test_split(X, y, test_size=0.2, random_state=42)\n",
        "\n",
        "# Define preprocessing steps\n",
        "# For simplicity, we use OneHotEncoder for categorical variables (Genre, Director, Actor1, Actor2, Actor3, Duration)\n",
        "# We also use SimpleImputer to handle missing values in features\n",
        "preprocessor = ColumnTransformer(\n",
        "    transformers=[\n",
        "        ('cat', OneHotEncoder(handle_unknown='ignore'), ['Genre', 'Director', 'Actor 1', 'Actor 2', 'Actor 3', 'Duration']),\n",
        "    ],\n",
        "    remainder='drop'\n",
        ")\n",
        "\n",
        "# Define the model (Linear Regression)\n",
        "model = Pipeline(steps=[\n",
        "    ('preprocessor', preprocessor),\n",
        "    ('regressor', LinearRegression())\n",
        "])\n",
        "\n",
        "# Train the model\n",
        "model.fit(X_train, y_train)\n",
        "\n",
        "# Make predictions\n",
        "y_pred = model.predict(X_test)\n",
        "\n",
        "# Evaluate the model\n",
        "mse = mean_squared_error(y_test, y_pred)\n",
        "print(f'Mean Squared Error: {mse}')\n",
        "\n",
        "# Now, you can use this model to predict ratings for new movies by providing their features.\n",
        "# Remember to preprocess the features using the same transformations used during training.\n"
      ]
    }
  ]
}